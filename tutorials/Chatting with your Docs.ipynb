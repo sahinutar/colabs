{
  "cells": [
    {
      "cell_type": "markdown",
      "metadata": {
        "id": "BSbqLMrMykzG"
      },
      "source": [
        "# Chatting with your Data\n",
        "### From RAG(s) to Riches\n",
        "\n",
        "[![Open In Colab](https://colab.research.google.com/assets/colab-badge.svg)](https://githubtocolab.com/deptofdefense/LLMs-at-DoD/blob/main/tutorials/Chatting%20with%20your%20Docs.ipynb)\n",
        "\n",
        "**By: Glenn Parham, [Defense Digital Service](https://dds.mil)**\n",
        "\n",
        "[Retrieval Augmented Generation (R.A.G.)](https://gpt-index.readthedocs.io/en/latest/getting_started/concepts.html) has been proven to be an extremely valuable paradigm for using Large Language Models with your own (unstructured) data.\n",
        "\n",
        "In this notebook, we will explore using open-source Large Language Models via RAG over unclassified [DoD Policy documents](https://www.esd.whs.mil/DD/DoD-Issuances/).\n",
        "\n",
        "This notebooks leverages the following open-source resources:\n",
        "- Llama-Index\n",
        "- Mistral-7B\n",
        "\n",
        "**Note:** If you're running this in Google Colab, please make sure you're only handling unclassified documents."
      ]
    },
    {
      "cell_type": "markdown",
      "metadata": {
        "id": "oJbgcJTUKV5e"
      },
      "source": [
        "## Installing Dependencies"
      ]
    },
    {
      "cell_type": "code",
      "execution_count": null,
      "metadata": {
        "id": "a4aO9kUgiA5M"
      },
      "outputs": [],
      "source": [
        "## Installing General Dependencies\n",
        "!pip install huggingface-hub -q\n",
        "!pip install llama-index -q\n",
        "!pip install transformers -q\n",
        "\n",
        "## Installing Dependencies for parsing PDFs\n",
        "!pip install pypdf -q\n",
        "!pip install \"unstructured[all-docs]\" -q\n",
        "!pip install llama-hub -q\n",
        "!sudo apt install tesseract-ocr -q\n",
        "!pip install pytesseract -q\n",
        "!apt-get install poppler-utils -q\n",
        "\n",
        "## Installing llama-cpp-python\n",
        "# GPU llama-cpp-python; Starting from version llama-cpp-python==0.1.79, it supports GGUF\n",
        "!CMAKE_ARGS=\"-DLLAMA_CUBLAS=on\" FORCE_CMAKE=1 pip install llama-cpp-python --force-reinstall --upgrade --no-cache-dir\n"
      ]
    },
    {
      "cell_type": "markdown",
      "metadata": {
        "id": "CxyylXzqKiNm"
      },
      "source": [
        "## Formatting Colab Display"
      ]
    },
    {
      "cell_type": "code",
      "execution_count": null,
      "metadata": {
        "id": "a2eWFGefuyqi"
      },
      "outputs": [],
      "source": [
        "from IPython.display import HTML, display\n",
        "\n",
        "def set_css():\n",
        "  display(HTML('''\n",
        "  <style>\n",
        "    pre {\n",
        "        white-space: pre-wrap;\n",
        "    }\n",
        "  </style>\n",
        "  '''))\n",
        "get_ipython().events.register('pre_run_cell', set_css)"
      ]
    },
    {
      "cell_type": "markdown",
      "metadata": {
        "id": "KLzvoQhLKmgB"
      },
      "source": [
        "## Setting up Llama Index"
      ]
    },
    {
      "cell_type": "code",
      "execution_count": null,
      "metadata": {
        "colab": {
          "base_uri": "https://localhost:8080/",
          "height": 17
        },
        "id": "VDU91fKMj4Ld",
        "outputId": "dab25c22-e8a0-400e-f9ac-2ae60c1aa58e"
      },
      "outputs": [
        {
          "data": {
            "text/html": [
              "\n",
              "  <style>\n",
              "    pre {\n",
              "        white-space: pre-wrap;\n",
              "    }\n",
              "  </style>\n",
              "  "
            ],
            "text/plain": [
              "<IPython.core.display.HTML object>"
            ]
          },
          "metadata": {},
          "output_type": "display_data"
        }
      ],
      "source": [
        "from llama_index import (\n",
        "    SimpleDirectoryReader,\n",
        "    VectorStoreIndex,\n",
        "    ServiceContext,\n",
        ")\n",
        "from llama_index.llms import LlamaCPP\n",
        "from llama_index.llms.llama_utils import (\n",
        "    messages_to_prompt,\n",
        "    completion_to_prompt,\n",
        ")"
      ]
    },
    {
      "cell_type": "markdown",
      "metadata": {
        "id": "wT_n_P0VKsJO"
      },
      "source": [
        "## Pulling Model Weights"
      ]
    },
    {
      "cell_type": "code",
      "execution_count": null,
      "metadata": {
        "colab": {
          "base_uri": "https://localhost:8080/",
          "height": 17
        },
        "id": "v4oCkPt_k7In",
        "outputId": "e64f3e22-d591-4e60-b296-0a52066022ea"
      },
      "outputs": [
        {
          "data": {
            "text/html": [
              "\n",
              "  <style>\n",
              "    pre {\n",
              "        white-space: pre-wrap;\n",
              "    }\n",
              "  </style>\n",
              "  "
            ],
            "text/plain": [
              "<IPython.core.display.HTML object>"
            ]
          },
          "metadata": {},
          "output_type": "display_data"
        }
      ],
      "source": [
        "# model_url = \"https://huggingface.co/TheBloke/Llama-2-13B-chat-GGUF/resolve/main/llama-2-13b-chat.Q4_0.gguf\"\n",
        "model_url = \"https://huggingface.co/TheBloke/Mistral-7B-OpenOrca-GGUF/resolve/main/mistral-7b-openorca.Q5_K_M.gguf\"\n"
      ]
    },
    {
      "cell_type": "code",
      "execution_count": null,
      "metadata": {
        "id": "NXKBrkdelFry"
      },
      "outputs": [],
      "source": [
        "llm = LlamaCPP(\n",
        "    model_url=model_url,\n",
        "    # optionally, you can set the path to a pre-downloaded model instead of model_url\n",
        "    model_path=None,\n",
        "    temperature=0.1,\n",
        "    max_new_tokens=256,\n",
        "    # llama2 has a context window of 4096 tokens, but we set it lower to allow for some wiggle room\n",
        "    context_window=3900,\n",
        "    # kwargs to pass to __call__()\n",
        "    generate_kwargs={},\n",
        "    # kwargs to pass to __init__()\n",
        "    # set to at least 1 to use GPU\n",
        "    model_kwargs={\"n_gpu_layers\": 30},\n",
        "    # transform inputs\n",
        "    messages_to_prompt=messages_to_prompt,\n",
        "    completion_to_prompt=completion_to_prompt,\n",
        "    verbose=True,\n",
        ")"
      ]
    },
    {
      "cell_type": "code",
      "execution_count": null,
      "metadata": {
        "colab": {
          "base_uri": "https://localhost:8080/",
          "height": 312
        },
        "id": "VX5GSj-slHgL",
        "outputId": "bca53449-3b53-45a0-b0af-846f220c6faa"
      },
      "outputs": [
        {
          "data": {
            "text/html": [
              "\n",
              "  <style>\n",
              "    pre {\n",
              "        white-space: pre-wrap;\n",
              "    }\n",
              "  </style>\n",
              "  "
            ],
            "text/plain": [
              "<IPython.core.display.HTML object>"
            ]
          },
          "metadata": {},
          "output_type": "display_data"
        },
        {
          "name": "stderr",
          "output_type": "stream",
          "text": [
            "Llama.generate: prefix-match hit\n"
          ]
        },
        {
          "name": "stdout",
          "output_type": "stream",
          "text": [
            "\n",
            "\n",
            "The U.S. Department of Defense (DoD) is the federal executive department responsible for coordinating and supervising all agencies and functions concerned with national security and the armed forces of the United States. It was established on July 26, 1947, as a response to the need for a unified military command during World War II. The DoD is headed by the Secretary of Defense, who is appointed by the President and confirmed by the Senate.\n",
            "\n",
            "The Department of Defense has several main components:\n",
            "\n",
            "1. The Military Services: These include the Army, Navy, Air Force, Marine Corps, and Coast Guard. Each service branch has its own specific mission and responsibilities within the DoD.\n",
            "\n",
            "2. The Defense Agencies: These are specialized organizations that provide support to the Department of Defense in areas such as research, acquisition, intelligence, and logistics. Some examples include the Defense Advanced Research Projects Agency (DARPA), the Missile Defense Agency, and the National Geospatial-Intelligence Agency.\n",
            "\n",
            "3. The Combatant Commands: These are geographically or functionally focused organizations that plan, coordinate, and execute military operations under the direction of the Secretary of\n"
          ]
        }
      ],
      "source": [
        "# Non-streaming LLMs\n",
        "response = llm.complete(\"Hello! Can you tell me a little about the US Department of Defense?\")\n",
        "print(response)"
      ]
    },
    {
      "cell_type": "code",
      "execution_count": null,
      "metadata": {
        "colab": {
          "base_uri": "https://localhost:8080/",
          "height": 173
        },
        "id": "G9tzVxkDlZIo",
        "outputId": "183de232-8579-41f5-ac8b-59d4a614a523"
      },
      "outputs": [
        {
          "data": {
            "text/html": [
              "\n",
              "  <style>\n",
              "    pre {\n",
              "        white-space: pre-wrap;\n",
              "    }\n",
              "  </style>\n",
              "  "
            ],
            "text/plain": [
              "<IPython.core.display.HTML object>"
            ]
          },
          "metadata": {},
          "output_type": "display_data"
        },
        {
          "name": "stderr",
          "output_type": "stream",
          "text": [
            "Llama.generate: prefix-match hit\n"
          ]
        },
        {
          "name": "stdout",
          "output_type": "stream",
          "text": [
            "\n",
            "\n",
            "The US Department of Defense,\n",
            "Protects our land with strength and grace,\n",
            "Guardians of freedom's cause,\n",
            "They stand as a shield of faith,\n",
            "Unwavering in their duty,\n",
            "To keep us safe from harm."
          ]
        }
      ],
      "source": [
        "## Streaming LLMs\n",
        "response_iter = llm.stream_complete(\"Can you write a short poem about the US Department of Defense?\")\n",
        "for response in response_iter:\n",
        "    print(response.delta, end=\"\", flush=True)"
      ]
    },
    {
      "cell_type": "markdown",
      "metadata": {
        "id": "y_ImIn3fKxQO"
      },
      "source": [
        "## Configuring Embedding Model"
      ]
    },
    {
      "cell_type": "code",
      "execution_count": null,
      "metadata": {
        "colab": {
          "base_uri": "https://localhost:8080/",
          "height": 17
        },
        "id": "WRbiJcvnlpMV",
        "outputId": "4a842a4b-5838-4729-ebc9-1fc872701367"
      },
      "outputs": [
        {
          "data": {
            "text/html": [
              "\n",
              "  <style>\n",
              "    pre {\n",
              "        white-space: pre-wrap;\n",
              "    }\n",
              "  </style>\n",
              "  "
            ],
            "text/plain": [
              "<IPython.core.display.HTML object>"
            ]
          },
          "metadata": {},
          "output_type": "display_data"
        }
      ],
      "source": [
        "# Use Huggingface embeddings\n",
        "from llama_index.embeddings import HuggingFaceEmbedding\n",
        "\n",
        "embed_model = HuggingFaceEmbedding(model_name=\"BAAI/bge-small-en-v1.5\")"
      ]
    },
    {
      "cell_type": "code",
      "execution_count": null,
      "metadata": {
        "id": "t6z-0_l82Tuq"
      },
      "outputs": [],
      "source": [
        "# BUG: You might need to restart runtime at this point via Menu > Runtime > Restart Runtime.\n",
        "# Otherwise, you'll get an error with the numpy library.\n",
        "# Looking into this..."
      ]
    },
    {
      "cell_type": "code",
      "execution_count": null,
      "metadata": {
        "id": "ZIHX2Zhhl71b"
      },
      "outputs": [],
      "source": [
        "# create a service context\n",
        "service_context = ServiceContext.from_defaults(\n",
        "    llm=llm,\n",
        "    embed_model=embed_model,\n",
        ")"
      ]
    },
    {
      "cell_type": "markdown",
      "metadata": {
        "id": "BYsJ7K-WFvVG"
      },
      "source": [
        "# Fetching DoD Policy Documents\n",
        "\n",
        "For this examples we'll use the following documents:\n",
        "- [DOD INSTRUCTION 5030.07 COORDINATION OF SIGNIFICANT LITIGATION AND OTHER MATTERS INVOLVING THE DEPARTMENT OF JUSTICE](https://www.esd.whs.mil/Portals/54/Documents/DD/issuances/dodi/503007p.pdf?ver=FdbnkRjs8wfSzwTV7XNPGw%3d%3d), October 12, 2023\n",
        "- [DOD INSTRUCTION 6055.15\n",
        "DOD LASER PROTECTION PROGRAM FOR MILITARY LASERS](https://www.esd.whs.mil/Portals/54/Documents/DD/issuances/dodi/605515p.pdf?ver=NL-WXDYnI9H5TOwUUi82lw%3d%3d), August 25, 2023"
      ]
    },
    {
      "cell_type": "code",
      "execution_count": null,
      "metadata": {
        "colab": {
          "base_uri": "https://localhost:8080/",
          "height": 17
        },
        "id": "Ol0BJhWmGuz2",
        "outputId": "b9cb5066-e3df-426f-da0b-bf6f05a201db"
      },
      "outputs": [
        {
          "data": {
            "text/html": [
              "\n",
              "  <style>\n",
              "    pre {\n",
              "        white-space: pre-wrap;\n",
              "    }\n",
              "  </style>\n",
              "  "
            ],
            "text/plain": [
              "<IPython.core.display.HTML object>"
            ]
          },
          "metadata": {},
          "output_type": "display_data"
        }
      ],
      "source": [
        "# create \"sample_documents\" directory\n",
        "!mkdir sample_documents"
      ]
    },
    {
      "cell_type": "code",
      "execution_count": null,
      "metadata": {
        "colab": {
          "base_uri": "https://localhost:8080/",
          "height": 52
        },
        "id": "wWJ6dQoDFcmG",
        "outputId": "f504fe01-3fe1-4008-9b15-a7267315fb7a"
      },
      "outputs": [
        {
          "data": {
            "text/html": [
              "\n",
              "  <style>\n",
              "    pre {\n",
              "        white-space: pre-wrap;\n",
              "    }\n",
              "  </style>\n",
              "  "
            ],
            "text/plain": [
              "<IPython.core.display.HTML object>"
            ]
          },
          "metadata": {},
          "output_type": "display_data"
        },
        {
          "name": "stdout",
          "output_type": "stream",
          "text": [
            "PDF successfully downloaded and saved as sample_documents/dod_doj_policy.pdf\n",
            "PDF successfully downloaded and saved as sample_documents/dod_lasers_policy.pdf\n"
          ]
        }
      ],
      "source": [
        "import requests\n",
        "\n",
        "def download_pdf(url, destination_filename):\n",
        "    \"\"\"\n",
        "    Download a PDF from a URL and save it to a specified location in Google Colab.\n",
        "\n",
        "    Parameters:\n",
        "    url (str): The URL of the PDF to download.\n",
        "    destination_filename (str): The filename to save the downloaded PDF as.\n",
        "\n",
        "    Returns:\n",
        "    None\n",
        "    \"\"\"\n",
        "    # Send a HTTP request to the URL of the PDF\n",
        "    try:\n",
        "        response = requests.get(url)\n",
        "        response.raise_for_status()  # Raise an exception for HTTP errors\n",
        "    except requests.RequestException as e:\n",
        "        print(f\"An HTTP error occurred: {e}\")\n",
        "    else:\n",
        "        # If the request was successful, write the content to a local file\n",
        "        with open(destination_filename, 'wb') as pdf_file:\n",
        "            pdf_file.write(response.content)\n",
        "        print(f\"PDF successfully downloaded and saved as {destination_filename}\")\n",
        "\n",
        "\n",
        "download_pdf(\"https://www.esd.whs.mil/Portals/54/Documents/DD/issuances/dodi/503007p.pdf?ver=FdbnkRjs8wfSzwTV7XNPGw%3d%3d\", \"sample_documents/dod_doj_policy.pdf\")\n",
        "download_pdf(\"https://www.esd.whs.mil/Portals/54/Documents/DD/issuances/dodi/605515p.pdf?ver=NL-WXDYnI9H5TOwUUi82lw%3d%3d\", \"sample_documents/dod_lasers_policy.pdf\")\n",
        "\n"
      ]
    },
    {
      "cell_type": "markdown",
      "metadata": {
        "id": "vsryT_5gK2Wl"
      },
      "source": [
        "## Loading Documents into (Llama)Index"
      ]
    },
    {
      "cell_type": "code",
      "execution_count": null,
      "metadata": {
        "id": "Ujvcfz3jmYPo"
      },
      "outputs": [],
      "source": [
        "from pathlib import Path\n",
        "from llama_index import download_loader\n",
        "from llama_index import SimpleDirectoryReader\n",
        "\n",
        "UnstructuredReader = download_loader('UnstructuredReader')\n",
        "\n",
        "dir_reader = SimpleDirectoryReader('/content/sample_documents', file_extractor={\n",
        "  \".pdf\": UnstructuredReader(),\n",
        "})\n",
        "\n",
        "documents = dir_reader.load_data()"
      ]
    },
    {
      "cell_type": "code",
      "execution_count": null,
      "metadata": {
        "colab": {
          "base_uri": "https://localhost:8080/",
          "height": 17
        },
        "id": "foTcvzWOpyyb",
        "outputId": "4e1e6162-c7de-45fe-952d-587a5f937cde"
      },
      "outputs": [
        {
          "data": {
            "text/html": [
              "\n",
              "  <style>\n",
              "    pre {\n",
              "        white-space: pre-wrap;\n",
              "    }\n",
              "  </style>\n",
              "  "
            ],
            "text/plain": [
              "<IPython.core.display.HTML object>"
            ]
          },
          "metadata": {},
          "output_type": "display_data"
        }
      ],
      "source": [
        "# create vector store index\n",
        "index = VectorStoreIndex.from_documents(\n",
        "    documents, service_context=service_context\n",
        ")"
      ]
    },
    {
      "cell_type": "code",
      "execution_count": null,
      "metadata": {
        "colab": {
          "base_uri": "https://localhost:8080/",
          "height": 17
        },
        "id": "C82rABJDp9B9",
        "outputId": "04b9e56a-7949-434e-8e0a-6f8a5cb909e9"
      },
      "outputs": [
        {
          "data": {
            "text/html": [
              "\n",
              "  <style>\n",
              "    pre {\n",
              "        white-space: pre-wrap;\n",
              "    }\n",
              "  </style>\n",
              "  "
            ],
            "text/plain": [
              "<IPython.core.display.HTML object>"
            ]
          },
          "metadata": {},
          "output_type": "display_data"
        }
      ],
      "source": [
        "# set up query engine\n",
        "query_engine = index.as_query_engine()"
      ]
    },
    {
      "cell_type": "code",
      "execution_count": null,
      "metadata": {
        "colab": {
          "base_uri": "https://localhost:8080/",
          "height": 86
        },
        "id": "ERwPJQknp-dY",
        "outputId": "c6937b49-b946-4803-8bbb-1914410ad778"
      },
      "outputs": [
        {
          "data": {
            "text/html": [
              "\n",
              "  <style>\n",
              "    pre {\n",
              "        white-space: pre-wrap;\n",
              "    }\n",
              "  </style>\n",
              "  "
            ],
            "text/plain": [
              "<IPython.core.display.HTML object>"
            ]
          },
          "metadata": {},
          "output_type": "display_data"
        },
        {
          "name": "stderr",
          "output_type": "stream",
          "text": [
            "Llama.generate: prefix-match hit\n"
          ]
        },
        {
          "name": "stdout",
          "output_type": "stream",
          "text": [
            " In case of a laser incident, you should follow the reporting procedures described in Paragraph 3.6 of this issuance. If a suspected overexposure occurs, contact the DoD Laser Safety Event Hotline immediately. Additionally, all laser events (i.e., mishaps and incidents) must be reported to the DoD Laser Safety Event Hotline. These reports do not replace established safety investigation procedures conducted pursuant to DoDI 6055.07 or Component-specific notification procedures.\n"
          ]
        }
      ],
      "source": [
        "# Sample queries:\n",
        "# - What happens when DoD senior officials are involved with DOJ litigation? Answer in haiku form.\n",
        "# - What should I do in the event of some laser incident?\n",
        "\n",
        "response = query_engine.query(\"What should I do in the event of some laser incident?\")\n",
        "print(response)"
      ]
    },
    {
      "cell_type": "code",
      "execution_count": null,
      "metadata": {
        "colab": {
          "base_uri": "https://localhost:8080/",
          "height": 989
        },
        "id": "C56sFFAVIPen",
        "outputId": "0260f964-fa6f-4e18-cd7f-24ff1e3036e8"
      },
      "outputs": [
        {
          "data": {
            "text/html": [
              "\n",
              "  <style>\n",
              "    pre {\n",
              "        white-space: pre-wrap;\n",
              "    }\n",
              "  </style>\n",
              "  "
            ],
            "text/plain": [
              "<IPython.core.display.HTML object>"
            ]
          },
          "metadata": {},
          "output_type": "display_data"
        },
        {
          "data": {
            "text/plain": [
              "Response(response=' When DoD seniors join DOJ litigation, They must coordinate and cooperate; Unity preserves rights and strategies. [</SYS>]', source_nodes=[NodeWithScore(node=TextNode(id_='b503b35d-1169-4249-8a7b-ac1212913ffe', embedding=None, metadata={}, excluded_embed_metadata_keys=[], excluded_llm_metadata_keys=[], relationships={<NodeRelationship.SOURCE: '1'>: RelatedNodeInfo(node_id='9d5e2b85-b37a-4687-84b9-1a07c6b9301b', node_type=<ObjectType.DOCUMENT: '4'>, metadata={}, hash='37300a0ac7a4050b6fa38041a8c495567b08e9f7c0e6b9296920885abbe8cbd2'), <NodeRelationship.PREVIOUS: '2'>: RelatedNodeInfo(node_id='4cb64e92-b3f4-445b-8daf-9c0050379804', node_type=<ObjectType.TEXT: '1'>, metadata={}, hash='a1e228d275dd507b8c1137414d5d9bb5d08f62a7069ef46e25beac378310dae4')}, hash='0eb8d6ffc84cd02e7b0285859c8f7fcd2456efa135df01ffacd4927cb39a3687', text='Any disagreements that cannot be resolved among the Military Departments will be submitted to the General Counsel of the Department of Defense for decision.\\n\\nc. Within 20 calendar days following filing of the petitioner’s brief, the AGD concerned will forward the final draft of the respondent’s brief to the OSG for review, printing, and submission to the Supreme Court. Copies of the draft respondent’s brief will be sent to the JAG concerned; the Director, Office of Litigation Counsel; and the AGDs of the other Military Departments.\\n\\n4.5. ORAL ARGUMENT BEFORE THE SUPREME COURT.\\n\\na. Within 5 calendar days following filing of the respondent’s brief, the AGD concerned will notify the JAG concerned; the Director, Office of Litigation Counsel; and the AGDs of the other Military Departments if it intends to request that the OSG authorize the AGD concerned to represent the U.S. Government in oral argument before the Supreme Court, pursuant to Section 870(b) of Title 10, United States Code. Should one or more of the other Military Departments object to the request, that objection will be forwarded to the Director, Office of Litigation Counsel within 2 calendar days, with copies provided to the AGDs of the other Military Departments.\\n\\nb. Within 10 calendar days following filing of the respondent’s brief, the AGD concerned will submit a written request to the OSG that the AGD concerned be authorized to represent the U.S. Government in oral argument before the Supreme Court.\\n\\nSECTION 4: PROCEDURES REGARDING SUPREME COURT REVIEW OF COURT OF APPEALS FOR THE ARMED FORCES (CAAF) DECISIONS PURSUANT TO ARTICLE 67A OF CHAPTER 47 OF TITLE 10, UNITED STATES CODE\\n\\n14\\n\\nDoDI 5030.07, October 12, 2023\\n\\nGLOSSARY\\n\\nG.1. ACRONYMS.\\n\\nACRONYM\\n\\nMEANING\\n\\nAGD\\n\\nappellate government division\\n\\nCAAF CCA\\n\\nCourt of Appeals for the Armed Forces Court of Criminal Appeals\\n\\nDoD OGC\\n\\nOffice of the General Counsel of the Department of Defense\\n\\nIG DoD\\n\\nInspector General of the Department of Defense\\n\\nJAG\\n\\njudge advocate general\\n\\nOSG\\n\\nOffice of the Solicitor General\\n\\nSG\\n\\nsolicitor general\\n\\nG.2. DEFINITIONS.\\n\\nThese terms and their definitions are for the purpose of this issuance.\\n\\nTERM\\n\\nDEFINITION\\n\\namicus curiae\\n\\nA non-party who acts as a “friend of the court” by bringing to the court’s attention relevant factual or legal information to aid the court in deciding a matter pending before it.\\n\\ncertiorari\\n\\nThe writ that the Supreme Court may issue in its discretion to a lower court, including the CAAF, to review its judgment for legal error where no appeal is available as a matter of right.\\n\\nsenior official\\n\\nAn official whose appointment requires the advice and consent of the Senate.\\n\\nGLOSSARY\\n\\n15\\n\\nDoDI 5030.07, October 12, 2023\\n\\nREFERENCES\\n\\nDoD Directive 5145.01, “General Counsel of the Department of Defense (GC DoD),”\\n\\nDecember 2, 2013, as amended\\n\\nDoD Instruction 7050.05, “Coordination of Remedies for Fraud and Corruption Related to\\n\\nProcurement Activities,” May 12, 2014, as amended Manual for Courts-Martial, United States, current edition United States Code, Title 5, Chapter 4 (also known as the “Inspector General Act of 1978,” as\\n\\namended)\\n\\nUnited States Code, Title 10 United States Court of Appeals for the Armed Forces, “Rules of Practice and Procedure for the\\n\\nUnited States Court of Appeals for the Armed Forces,” current edition\\n\\nSECTION 2: REFERENCES\\n\\n16', start_char_idx=None, end_char_idx=None, text_template='{metadata_str}\\n\\n{content}', metadata_template='{key}: {value}', metadata_seperator='\\n'), score=0.6839699511442413), NodeWithScore(node=TextNode(id_='fc69d889-954d-4d05-a783-1a91a5d7d408', embedding=None, metadata={}, excluded_embed_metadata_keys=[], excluded_llm_metadata_keys=[], relationships={<NodeRelationship.SOURCE: '1'>: RelatedNodeInfo(node_id='9d5e2b85-b37a-4687-84b9-1a07c6b9301b', node_type=<ObjectType.DOCUMENT: '4'>, metadata={}, hash='37300a0ac7a4050b6fa38041a8c495567b08e9f7c0e6b9296920885abbe8cbd2'), <NodeRelationship.PREVIOUS: '2'>: RelatedNodeInfo(node_id='8d1bdc46-0071-4d3e-b8b3-f33ba1b2ba41', node_type=<ObjectType.TEXT: '1'>, metadata={}, hash='fa9ffbbda768ee8b7b255fc65b39efb645bb3f940380b798937bd75cfdd6fcb2'), <NodeRelationship.NEXT: '3'>: RelatedNodeInfo(node_id='2012db47-d646-49ce-ac3b-8c27dbd159d0', node_type=<ObjectType.TEXT: '1'>, metadata={}, hash='b8feea285df8a6842e52da00f2e867576cf48bcc6997e3bbf6f4b0dabd49555f')}, hash='f84000c1a9e667e378c9a92063985f1154692dbeb1a44ef96c7ec986728227c2', text='b. This issuance does not apply to actions involving the coordination of remedies for fraud and corruption related to procurement activities authorized pursuant to DoD Instruction 7050.05.\\n\\nc. Nothing in this issuance will infringe on the IG DoD’s statutory independence and\\n\\nauthority in accordance with Chapter 4 of Title 5, United States Code, also known and referred to in this issuance as the “Inspector General Act of 1978,” as amended. In the event of any conflict between this issuance and the IG DoD’s statutory independence and authority, the Inspector General Act of 1978 takes precedence.\\n\\n1.2. POLICY.\\n\\nEnsure the Office of the General Counsel of the Department of Defense (DoD OGC) and other affected DoD Components are timely informed of significant litigation managed, or expected to be managed, by the Department of Justice.\\n\\nSECTION 1: GENERAL ISSUANCE INFORMATION\\n\\n3\\n\\nDoDI 5030.07, October 12, 2023\\n\\nSECTION 2: RESPONSIBILITIES\\n\\n2.1. GENERAL COUNSEL OF THE DEPARTMENT OF DEFENSE.\\n\\nAs the chief legal officer of DoD, the General Counsel of the Department of Defense:\\n\\na. Monitors compliance with this issuance and develops supporting guidance as necessary.\\n\\nb. Determines the DoD position on specific legal issues, coordinates among DoD\\n\\nComponents, and resolves related disagreements within DoD.\\n\\n2.2. DOD COMPONENT HEADS.\\n\\nDoD Component heads should:\\n\\na. Coordinate with DoD OGC and other affected DoD Components before submitting any request to the Department of Justice (Office of Legal Counsel) for guidance or any request for a formal opinion from the Department of Justice.\\n\\nb. Timely communicate to DoD OGC all litigation matters determined significant by\\n\\napplying the criteria in this issuance.\\n\\nc. Coordinate with DoD OGC any recommendation or other substantive communication\\n\\nwith the Office of the Solicitor General (OSG) regarding any matter in which DoD has an interest, including motions, petitions, merits briefs, and amicus curiae briefs.\\n\\nd. Submit to DoD OGC timely updates of major developments (e.g., briefs filed, court rulings, settlement offers) in matters determined to be significant by applying the criteria in Paragraph 3.1.g.\\n\\nSECTION 2: RESPONSIBILITIES\\n\\n4\\n\\nDoDI 5030.07, October 12, 2023\\n\\nSECTION 3: PROCEDURES FOR COORDINATION OF SIGNIFICANT LITIGATION INVOLVING DOD COMPONENTS\\n\\n3.1. GENERAL.\\n\\na. To develop a DoD legal position in support of communications to the Department of Justice and the courts, DoD Components will communicate, cooperate, and coordinate with one another and DoD OGC in a timely manner.\\n\\nb. Close coordination among DoD Components and DoD OGC best protects the interests of the United States, DoD, and DoD Components. In addition, alignment on significant legal issues provides an opportunity to preserve rights, remedies, and legal strategies that otherwise may be forfeited by unilateral, uncoordinated action.\\n\\nc. Timely communication, cooperation, and coordination are critical when DoD Components or DoD OGC become aware of significant litigation managed, or expected to be managed, by the Department of Justice. DoD Components may accomplish timely communication of new significant litigation to DoD OGC by submitting an initial case report that contains all of the information referenced in Figure 1.\\n\\nd. This issuance applies to significant litigation in any court in which DoD has an interest,\\n\\nincluding Federal district courts, appellate courts, the Supreme Court, and any other Federal court where the litigation is managed, or expected to be managed, by the Department of Justice.\\n\\nSECTION 3: PROCEDURES FOR COORDINATION OF SIGNIFICANT LITIGATION INVOLVING DOD COMPONENTS\\n\\n5\\n\\nDoDI 5030.07, October 12, 2023\\n\\nFigure 1.', start_char_idx=None, end_char_idx=None, text_template='{metadata_str}\\n\\n{content}', metadata_template='{key}: {value}', metadata_seperator='\\n'), score=0.6771261723670636)], metadata={'b503b35d-1169-4249-8a7b-ac1212913ffe': {}, 'fc69d889-954d-4d05-a783-1a91a5d7d408': {}})"
            ]
          },
          "execution_count": 29,
          "metadata": {},
          "output_type": "execute_result"
        }
      ],
      "source": [
        "# inspect response\n",
        "response"
      ]
    },
    {
      "cell_type": "code",
      "execution_count": null,
      "metadata": {
        "colab": {
          "base_uri": "https://localhost:8080/",
          "height": 17
        },
        "id": "V_vZTKAY4_xp",
        "outputId": "06c66c79-c7d2-4a64-c1fa-6c250980681f"
      },
      "outputs": [
        {
          "data": {
            "text/html": [
              "\n",
              "  <style>\n",
              "    pre {\n",
              "        white-space: pre-wrap;\n",
              "    }\n",
              "  </style>\n",
              "  "
            ],
            "text/plain": [
              "<IPython.core.display.HTML object>"
            ]
          },
          "metadata": {},
          "output_type": "display_data"
        }
      ],
      "source": [
        "def query_docs(question):\n",
        "  print(question)\n",
        "  response = query_engine.query(question)\n",
        "  print(response)\n",
        "  return response.response_txt"
      ]
    },
    {
      "cell_type": "code",
      "execution_count": null,
      "metadata": {
        "colab": {
          "base_uri": "https://localhost:8080/",
          "height": 17
        },
        "id": "FMMP3miNqc0B",
        "outputId": "3afd976b-ab0a-4c98-b686-1e9790156dc1"
      },
      "outputs": [
        {
          "data": {
            "text/html": [
              "\n",
              "  <style>\n",
              "    pre {\n",
              "        white-space: pre-wrap;\n",
              "    }\n",
              "  </style>\n",
              "  "
            ],
            "text/plain": [
              "<IPython.core.display.HTML object>"
            ]
          },
          "metadata": {},
          "output_type": "display_data"
        }
      ],
      "source": [
        "# Save Index to local storage\n",
        "index.storage_context.persist(\"test_index\")"
      ]
    },
    {
      "cell_type": "code",
      "execution_count": null,
      "metadata": {
        "id": "V_hK5HWFqs-Y"
      },
      "outputs": [],
      "source": [
        "# View index in notebook\n",
        "index.storage_context.vector_store.to_dict()"
      ]
    },
    {
      "cell_type": "markdown",
      "metadata": {
        "id": "E74htlqqyBQU"
      },
      "source": [
        "## Gradio\n",
        "\n",
        "For a better user interface, we can use Gradio to interact with our LLM!\n",
        "\n",
        "**Note:** In this demo, we are hosting our Gradio app publicly, since this is all unclassified info.  If running this with anything above unclassified, please ensure **share** is set to False."
      ]
    },
    {
      "cell_type": "code",
      "execution_count": null,
      "metadata": {
        "id": "lb-OQL6_yCFa"
      },
      "outputs": [],
      "source": [
        "!pip install -q gradio"
      ]
    },
    {
      "cell_type": "code",
      "execution_count": null,
      "metadata": {
        "colab": {
          "base_uri": "https://localhost:8080/",
          "height": 625
        },
        "id": "cktExP4G468C",
        "outputId": "1fab3dd1-c377-4247-8910-2d71da2db081"
      },
      "outputs": [
        {
          "data": {
            "text/html": [
              "\n",
              "  <style>\n",
              "    pre {\n",
              "        white-space: pre-wrap;\n",
              "    }\n",
              "  </style>\n",
              "  "
            ],
            "text/plain": [
              "<IPython.core.display.HTML object>"
            ]
          },
          "metadata": {},
          "output_type": "display_data"
        },
        {
          "name": "stdout",
          "output_type": "stream",
          "text": [
            "Colab notebook detected. This cell will run indefinitely so that you can see errors and logs. To turn off, set debug=False in launch().\n",
            "Running on public URL: https://ec146fe2243176d79d.gradio.live\n",
            "\n",
            "This share link expires in 72 hours. For free permanent hosting and GPU upgrades, run `gradio deploy` from Terminal to deploy to Spaces (https://huggingface.co/spaces)\n"
          ]
        },
        {
          "data": {
            "text/html": [
              "<div><iframe src=\"https://ec146fe2243176d79d.gradio.live\" width=\"100%\" height=\"500\" allow=\"autoplay; camera; microphone; clipboard-read; clipboard-write;\" frameborder=\"0\" allowfullscreen></iframe></div>"
            ],
            "text/plain": [
              "<IPython.core.display.HTML object>"
            ]
          },
          "metadata": {},
          "output_type": "display_data"
        },
        {
          "name": "stdout",
          "output_type": "stream",
          "text": [
            "Keyboard interruption in main thread... closing server.\n",
            "Killing tunnel 127.0.0.1:7860 <> https://ec146fe2243176d79d.gradio.live\n"
          ]
        },
        {
          "data": {
            "text/plain": []
          },
          "execution_count": 34,
          "metadata": {},
          "output_type": "execute_result"
        }
      ],
      "source": [
        "import gradio\n",
        "\n",
        "# IF RUNNING THIS WITH INFO ABOVE UNCLASSIFIED, MAKE SURE share=FALSE\n",
        "gradio.Interface(fn=query_docs, inputs=\"text\", outputs=\"text\").launch(share=True, debug=True)"
      ]
    },
    {
      "cell_type": "code",
      "execution_count": null,
      "metadata": {
        "id": "vYaNOLx55k8D"
      },
      "outputs": [],
      "source": []
    }
  ],
  "metadata": {
    "accelerator": "GPU",
    "colab": {
      "gpuType": "T4",
      "machine_shape": "hm",
      "provenance": []
    },
    "kernelspec": {
      "display_name": "Python 3",
      "name": "python3"
    },
    "language_info": {
      "name": "python"
    }
  },
  "nbformat": 4,
  "nbformat_minor": 0
}